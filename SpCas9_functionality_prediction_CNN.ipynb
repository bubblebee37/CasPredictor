{
 "cells": [
  {
   "cell_type": "code",
   "execution_count": null,
   "metadata": {},
   "outputs": [],
   "source": [
    "import os\n",
    "os.environ[\"HOME\"]"
   ]
  },
  {
   "cell_type": "code",
   "execution_count": null,
   "metadata": {},
   "outputs": [],
   "source": [
    "import tensorflow as tf\n",
    "print(tf.__version__)\n",
    "AUTOTUNE = tf.data.experimental.AUTOTUNE"
   ]
  },
  {
   "cell_type": "code",
   "execution_count": null,
   "metadata": {},
   "outputs": [],
   "source": [
    "import numpy as np\n",
    "def one_hot_encoder(s):\n",
    "    pep_num = ' '.join([str(ints) for ints in range(20)])\n",
    "    pep_ref = 'A C D E F G H I K L M N P Q R S T V W Y'\n",
    "    d = dict(zip(pep_ref.split(' '), pep_num.split(' ')))\n",
    "    \n",
    "    x = np.zeros((len(d), len(s)))\n",
    "    x[[int(d[c]) for c in s], range(len(s))] = 1\n",
    "    return x"
   ]
  },
  {
   "cell_type": "code",
   "execution_count": null,
   "metadata": {},
   "outputs": [],
   "source": [
    "import pandas as pd\n",
    "folder = '/file_location/'\n",
    "train_seq = pd.read_csv('{}/Seq_with_freq_train.csv'.format(folder), sep = \"\\t\")\n",
    "test_seq = pd.read_csv('{}/Seq_with_freq_test.csv'.format(folder), sep = \"\\t\")"
   ]
  },
  {
   "cell_type": "code",
   "execution_count": null,
   "metadata": {},
   "outputs": [],
   "source": [
    "#Translate the amino acid sequences to protein sequences\n",
    "def translate(seq):\n",
    "    table = {\n",
    "        'ATA':'I', 'ATC':'I', 'ATT':'I', 'ATG':'M',\n",
    "        'ACA':'T', 'ACC':'T', 'ACG':'T', 'ACT':'T',\n",
    "        'AAC':'N', 'AAT':'N', 'AAA':'K', 'AAG':'K',\n",
    "        'AGC':'S', 'AGT':'S', 'AGA':'R', 'AGG':'R',                 \n",
    "        'CTA':'L', 'CTC':'L', 'CTG':'L', 'CTT':'L',\n",
    "        'CCA':'P', 'CCC':'P', 'CCG':'P', 'CCT':'P',\n",
    "        'CAC':'H', 'CAT':'H', 'CAA':'Q', 'CAG':'Q',\n",
    "        'CGA':'R', 'CGC':'R', 'CGG':'R', 'CGT':'R',\n",
    "        'GTA':'V', 'GTC':'V', 'GTG':'V', 'GTT':'V',\n",
    "        'GCA':'A', 'GCC':'A', 'GCG':'A', 'GCT':'A',\n",
    "        'GAC':'D', 'GAT':'D', 'GAA':'E', 'GAG':'E',\n",
    "        'GGA':'G', 'GGC':'G', 'GGG':'G', 'GGT':'G',\n",
    "        'TCA':'S', 'TCC':'S', 'TCG':'S', 'TCT':'S',\n",
    "        'TTC':'F', 'TTT':'F', 'TTA':'L', 'TTG':'L',\n",
    "        'TAC':'Y', 'TAT':'Y', 'TAA':'*', 'TAG':'*',\n",
    "        'TGC':'C', 'TGT':'C', 'TGA':'*', 'TGG':'W'}\n",
    "    j = [table.get(seq[i:i+3]) for i in range(0, len(seq), 3)]\n",
    "    protein = \"\".join(j)\n",
    "    return protein"
   ]
  },
  {
   "cell_type": "code",
   "execution_count": null,
   "metadata": {},
   "outputs": [],
   "source": [
    "#Translate the amino acid sequences to protein sequences\n",
    "prot_seq_train = []\n",
    "aa_seq_train = list(train_seq[\"#aaseq\"])\n",
    "for i in range(len(aa_seq_train)):\n",
    "    seq_train = aa_seq_train[i]\n",
    "    prot_train = translate(seq_train)\n",
    "    prot_seq_train.append(prot_train)"
   ]
  },
  {
   "cell_type": "code",
   "execution_count": null,
   "metadata": {},
   "outputs": [],
   "source": [
    "train_seq[\"#pseq\"] = prot_seq_train\n",
    "train_seq = train_seq[[\"#pseq\", \"indel_freq\", \"#aaseq\"]]\n",
    "train_seq = train_seq.drop([\"#aaseq\"], axis = 1)\n",
    "train_seq.head()"
   ]
  },
  {
   "cell_type": "code",
   "execution_count": null,
   "metadata": {},
   "outputs": [],
   "source": [
    "prot_seq_test = []\n",
    "aa_seq_test = list(test_seq[\"#aaseq\"])\n",
    "for i in range(len(aa_seq_test)):\n",
    "    seq_test = aa_seq_test[i]\n",
    "    prot_test = translate(seq_test)\n",
    "    prot_seq_test.append(prot_test)"
   ]
  },
  {
   "cell_type": "code",
   "execution_count": null,
   "metadata": {},
   "outputs": [],
   "source": [
    "test_seq[\"#pseq\"] = prot_seq_test\n",
    "test_seq = test_seq[[\"#pseq\", \"indel_freq\", \"#aaseq\"]]\n",
    "test_seq = test_seq.drop([\"#aaseq\"], axis = 1)\n",
    "test_seq.head()"
   ]
  },
  {
   "cell_type": "code",
   "execution_count": null,
   "metadata": {},
   "outputs": [],
   "source": [
    "#Drop the sequences with stop codon\n",
    "\n",
    "train_seq = train_seq[~train_seq['#pseq'].str.contains(\"\\*\")]\n",
    "test_seq = test_seq[~test_seq['#pseq'].str.contains(\"\\*\")]"
   ]
  },
  {
   "cell_type": "code",
   "execution_count": null,
   "metadata": {},
   "outputs": [],
   "source": [
    "#Top or bottom 2,000 sequences\n",
    "\n",
    "train_top = train_seq.sort_values(by = [\"indel_freq\"], axis = 0, ascending = False)\n",
    "train_bot = train_seq.sort_values(by = [\"indel_freq\"], axis = 0, ascending = True)\n",
    "top_2000 = train_top.head(2000)\n",
    "bot_2000 = train_bot.head(2000)"
   ]
  },
  {
   "cell_type": "code",
   "execution_count": null,
   "metadata": {},
   "outputs": [],
   "source": [
    "def diff_class(df):\n",
    "    freq = df[\"indel_freq\"]\n",
    "    if freq >= 50:\n",
    "        return 1\n",
    "    else:\n",
    "        return 0"
   ]
  },
  {
   "cell_type": "code",
   "execution_count": null,
   "metadata": {},
   "outputs": [],
   "source": [
    "top_2000[\"class\"] = top_2000.apply(diff_class, axis = 1)\n",
    "bot_2000[\"class\"] = bot_2000.apply(diff_class, axis = 1)"
   ]
  },
  {
   "cell_type": "code",
   "execution_count": null,
   "metadata": {},
   "outputs": [],
   "source": [
    "test_seq[\"class\"] = test_seq.apply(diff_class, axis = 1)"
   ]
  },
  {
   "cell_type": "code",
   "execution_count": null,
   "metadata": {},
   "outputs": [],
   "source": [
    "total_4000 = pd.concat([top_2000, bot_2000], axis = 0)\n",
    "total_4000.shape"
   ]
  },
  {
   "cell_type": "code",
   "execution_count": null,
   "metadata": {},
   "outputs": [],
   "source": [
    "#Sequences to One-hot encoding vector for CNN\n",
    "pep_seq = total_4000['#pseq'].tolist()\n",
    "pep_class = total_4000['class'].tolist()\n",
    "X_seq = [one_hot_encoder(x) for x in pep_seq]\n",
    "X_seq = np.transpose(np.asarray(X_seq), (0, 2, 1))\n",
    "X_seq = X_seq.astype('float32')\n",
    "Y_class = np.array(pep_class)"
   ]
  },
  {
   "cell_type": "code",
   "execution_count": null,
   "metadata": {},
   "outputs": [],
   "source": [
    "print('Length of data:', X_seq.shape[0])\n",
    "print('Length of peptides:', X_seq.shape[1])\n",
    "print('Length of amino acids:', X_seq.shape[2])"
   ]
  },
  {
   "cell_type": "code",
   "execution_count": null,
   "metadata": {},
   "outputs": [],
   "source": [
    "from tensorflow import keras \n",
    "from tensorflow.keras import layers\n",
    "from tensorflow.keras import models\n",
    "import numpy as np\n",
    "from sklearn.model_selection import ShuffleSplit\n",
    "from sklearn.metrics import accuracy_score\n",
    "from tensorflow.keras import optimizers\n",
    "import matplotlib.pyplot as plt\n",
    "from sklearn.metrics import roc_curve, auc, precision_recall_curve,average_precision_score, confusion_matrix, f1_score,matthews_corrcoef\n",
    "from inspect import signature"
   ]
  },
  {
   "cell_type": "code",
   "execution_count": null,
   "metadata": {
    "scrolled": true
   },
   "outputs": [],
   "source": [
    "#Model path\n",
    "\n",
    "import os\n",
    "model_path = \"/model_path/models\"\n",
    "model_path = os.path.join(model_path,'Model')\n",
    "os.makedirs(model_path, exist_ok = True)\n",
    "print(model_path)"
   ]
  },
  {
   "cell_type": "code",
   "execution_count": null,
   "metadata": {},
   "outputs": [],
   "source": [
    "#Hyperparameter\n",
    "\n",
    "BATCH_SIZE = 8\n",
    "PEP_length = 10\n",
    "AA_type  = 20\n",
    "CLASS_NAMES = ['enriched','not-enriched']\n",
    "params = [['CONV', 400, 3, 1],\n",
    "          ['DROP', 0.5],\n",
    "          ['POOL', 2, 1],\n",
    "          ['FLAT'],\n",
    "          ['DENSE', 50]]\n",
    "activation_func = 'relu'\n",
    "regularizer_params = None"
   ]
  },
  {
   "cell_type": "code",
   "execution_count": null,
   "metadata": {},
   "outputs": [],
   "source": [
    "model_version = 1\n",
    "dict_history = {}\n",
    "steps_per_epoch = 450\n",
    "Epochs = 50"
   ]
  },
  {
   "cell_type": "code",
   "execution_count": null,
   "metadata": {
    "scrolled": true
   },
   "outputs": [],
   "source": [
    "import numpy as np\n",
    "from sklearn.model_selection import ShuffleSplit\n",
    "from sklearn.metrics import accuracy_score\n",
    "from tensorflow.keras import optimizers\n",
    "%matplotlib inline\n",
    "import matplotlib.pyplot as plt\n",
    "from sklearn.metrics import roc_curve, auc, precision_recall_curve,average_precision_score, confusion_matrix, f1_score,matthews_corrcoef\n",
    "from inspect import signature\n",
    "split_data = ShuffleSplit(n_splits = 10, train_size = None, test_size = 0.1, random_state=1)\n",
    "acc_per_fold = []\n",
    "loss_per_fold = []\n",
    "val_acc_per_fold = []\n",
    "val_loss_per_fold = []\n",
    "roc_per_fold = []\n",
    "roc_fpr = []\n",
    "roc_tpr = []\n",
    "precision_fold = []\n",
    "recall_fold = []\n",
    "ave_precision_fold = []\n",
    "n_iter =0\n",
    "fold_num = []\n",
    "\n",
    "for train_idx, test_idx in split_data.split(X_seq, Y_class):\n",
    "    X_train = np.array(X_seq[train_idx])\n",
    "    X_test = np.array(X_seq[test_idx])\n",
    "    y_train = np.array(Y_class[train_idx])\n",
    "    y_test = np.array(Y_class[test_idx])\n",
    "    model = models.Sequential()\n",
    "    model.add(layers.Conv1D(filters = params[0][1],kernel_size = params[0][2],strides = params[0][3],activation=activation_func, input_shape=(PEP_length,AA_type),kernel_regularizer=regularizer_params, bias_regularizer=regularizer_params,padding='same'))\n",
    "    model.add(layers.Dropout(rate = params[1][1])) #add noise\n",
    "    model.add(layers.MaxPool1D(pool_size = params[2][1], strides = params[2][2]))\n",
    "    model.add(layers.Flatten())\n",
    "    model.add(layers.Dense(params[4][1], activation=activation_func, kernel_regularizer=regularizer_params,bias_regularizer=regularizer_params))\n",
    "    model.add(layers.Dense(1, activation='sigmoid')) #'softmax' for N class\n",
    "    model.compile(loss='binary_crossentropy', optimizer=optimizers.Adam(learning_rate=0.000075), metrics=['acc'] )\n",
    "    dict_history[model_version] = model.fit(x=X_train,y=y_train,shuffle=True, steps_per_epoch=steps_per_epoch, epochs=Epochs, batch_size = BATCH_SIZE, validation_data=(X_test, y_test), verbose=2)\n",
    "    history = dict_history[model_version]\n",
    "    acc = history.history['acc']\n",
    "    val_acc = history.history['val_acc']\n",
    "    loss = history.history['loss']\n",
    "    val_loss = history.history['val_loss']\n",
    "    train_size = X_train.shape[0]\n",
    "    test_size = X_test.shape[0]\n",
    "    scores = model.evaluate(X_test, y_test, verbose=0)\n",
    "    print(f'Score for fold {n_iter+1}: {model.metrics_names[0]} of {scores[0]}; {model.metrics_names[1]} of {scores[1]*100}%\\n')\n",
    "    acc_per_fold.append(acc)\n",
    "    loss_per_fold.append(loss)\n",
    "    val_acc_per_fold.append(val_acc)\n",
    "    val_loss_per_fold.append(val_loss)\n",
    "    arr_acc = np.array(acc_per_fold)\n",
    "    arr_loss = np.array(loss_per_fold)\n",
    "    arr_val_acc = np.array(val_acc_per_fold)\n",
    "    arr_val_loss = np.array(val_loss_per_fold)\n",
    "    epochs = range(1, len(acc) + 1)\n",
    "    pred = model.predict(x=X_test)\n",
    "    fpr, tpr, thresholds = roc_curve(y_test, pred)\n",
    "    roc_fpr.append(fpr)\n",
    "    roc_tpr.append(tpr)\n",
    "    roc_auc = auc(fpr, tpr)\n",
    "    roc_per_fold.append(roc_auc)\n",
    "    precision, recall, thresholds = precision_recall_curve(y_test, pred)\n",
    "    average_precision = average_precision_score(y_test, pred)\n",
    "    precision_fold.append(precision)\n",
    "    recall_fold.append(recall)\n",
    "    ave_precision_fold.append(average_precision)\n",
    "    globals()['model_fname_{}'.format(n_iter+1)] = f'BBBphagedisplay_TEST_{n_iter+1}_{model_version:03}.h5'\n",
    "    model_spath = os.path.join(model_path,f'model_fname_{n_iter+1}')\n",
    "    model.save(model_spath)\n",
    "    fold_num.append(n_iter+1)\n",
    "    n_iter += 1\n",
    "    epochs = range(1, len(acc) + 1)\n",
    "    fig = plt.figure(figsize=(10.5,3.5))\n",
    "    plt.plot(epochs, acc, 'bo', label='Training acc')\n",
    "    plt.plot(epochs, val_acc, 'r', alpha=0.7, label='Validation acc')\n",
    "    plt.title(f'Training and validation accuracy of fold {n_iter+1}')\n",
    "    plt.legend()\n",
    "    fig = plt.figure(figsize=(10.5,3.5))\n",
    "    plt.plot(epochs, loss, 'bo', label='Training loss')\n",
    "    plt.plot(epochs, val_loss, 'r', alpha=0.7, label='Validation loss')\n",
    "    plt.title(f'Training and validation loss of fold {n_iter+1}')\n",
    "    plt.legend()\n",
    "    plt.show()\n",
    "    pred = model.predict(x=X_test)\n",
    "    fpr, tpr, thresholds = roc_curve(y_test, pred)\n",
    "    roc_auc = auc(fpr, tpr)\n",
    "    plt.plot(fpr, tpr, color='darkorange',\n",
    "             lw=2, label='ROC curve (area - %0.2f)' % roc_auc)\n",
    "    plt.plot([0, 1], [0, 1], color='navy', lw=2, linestyle='--')\n",
    "    plt.xlim([0.0, 1.0])\n",
    "    plt.ylim([0.0, 1.05])\n",
    "    plt.xlabel('False Positive Rate')\n",
    "    plt.ylabel('True Positive Rate')\n",
    "    plt.legend(loc='lower right')\n",
    "    plt.show()\n",
    "    plt.cla()\n",
    "    plt.clf()\n",
    "    precision, recall, thresholds = precision_recall_curve(y_test, pred)\n",
    "    average_precision = average_precision_score(y_test, pred)\n",
    "    step_kwargs = ({'step': 'post'}\n",
    "                   if 'step' in signature(plt.fill_between).parameters\n",
    "                   else {})\n",
    "    plt.step(recall, precision, color='navy', alpha=0.2, where='post', label='Avg. Precision: {0:0.2f}'.format(average_precision))\n",
    "    plt.fill_between(recall, precision, alpha=0.2, color='navy', **step_kwargs)\n",
    "    plt.xlabel('Recall')\n",
    "    plt.ylabel('Precision')\n",
    "    plt.xlim([0.0, 1.0])\n",
    "    plt.ylim([0.0, 1.05])\n",
    "    plt.legend(loc='lower right')\n",
    "    plt.title(f'Precision recall curve and ROC curve of fold {n_iter+1}')\n",
    "    plt.show()\n",
    "    plt.cla()\n",
    "    plt.clf()"
   ]
  },
  {
   "cell_type": "code",
   "execution_count": null,
   "metadata": {},
   "outputs": [],
   "source": [
    "#Model save\n",
    "model_fname = f'Cas9Predictor_TEST_{model_version:03}.cv.h5'\n",
    "model_spath = os.path.join(model_path, model_fname)\n",
    "print(model_spath)"
   ]
  },
  {
   "cell_type": "code",
   "execution_count": null,
   "metadata": {},
   "outputs": [],
   "source": [
    "import matplotlib.pyplot as plt\n",
    "import numpy as np\n",
    "from cycler import cycler\n",
    "import matplotlib.lines as mlines\n",
    "num_plots = 10\n",
    "n_iter = 0\n",
    "\n",
    "plt.rcParams[\"font.size\"] = 16\n",
    "fig, ax = plt.subplots(figsize=(10.5,5.5))\n",
    "ax.set_prop_cycle('color',[plt.cm.jet(i) for i in np.linspace(0, 1, num_plots)])\n",
    "b_o = mlines.Line2D([], [], color='black', marker='o', linestyle='None', markersize=8)\n",
    "b_line = mlines.Line2D([], [], color='black', linestyle='solid')\n",
    "for i in range(n_iter, num_plots):\n",
    "    plt.plot(epochs, arr_acc[i], 'o', markersize = 5.5, alpha= 0.8)\n",
    "    i += 1\n",
    "for i in range(n_iter, num_plots):\n",
    "    plt.plot(epochs, arr_val_acc[i], alpha= 0.8, label= f'Fold {i+1}')\n",
    "    i += 1\n",
    "legend = plt.legend(loc='upper right', bbox_to_anchor=(1.15, 1), frameon = True, fontsize = 11)\n",
    "art_legend = plt.gca().add_artist(legend)\n",
    "legend_2 = plt.legend(handles = [b_o, b_line], labels = ['Accuracy', 'Validation accuracy'], loc='lower right', frameon = True, fontsize = 11)\n",
    "art_legend_2 = plt.gca().add_artist(legend_2)"
   ]
  },
  {
   "cell_type": "code",
   "execution_count": null,
   "metadata": {},
   "outputs": [],
   "source": [
    "import matplotlib.pyplot as plt\n",
    "import numpy as np\n",
    "num_plots = 10\n",
    "n_iter = 0\n",
    "\n",
    "fig, ax = plt.subplots(figsize=(10.5,5.5))\n",
    "ax.set_prop_cycle('color',[plt.cm.jet(i) for i in np.linspace(0, 1, num_plots)])\n",
    "b_o = mlines.Line2D([], [], color='black', marker='o', linestyle='None', markersize=8)\n",
    "b_line = mlines.Line2D([], [], color='black', linestyle='solid')\n",
    "for i in range(n_iter, num_plots):\n",
    "    plt.plot(epochs, arr_loss[i], 'o', markersize = 5.5, alpha= 0.8)\n",
    "    i += 1\n",
    "for i in range(n_iter, num_plots):\n",
    "    plt.plot(epochs, arr_val_loss[i], alpha= 0.8, label= f'Fold {i+1}')\n",
    "    i += 1\n",
    "legend = plt.legend(loc='upper right', bbox_to_anchor=(1.15, 1), frameon = True, fontsize = 11)\n",
    "art_legend = plt.gca().add_artist(legend)\n",
    "legend_2 = plt.legend(handles = [b_o, b_line], labels = ['Loss', 'Validation loss'], loc='lower right', frameon = True, fontsize = 11)\n",
    "art_legend_2 = plt.gca().add_artist(legend_2)"
   ]
  },
  {
   "cell_type": "code",
   "execution_count": null,
   "metadata": {},
   "outputs": [],
   "source": [
    "num_plots = 10\n",
    "n_iter = 0\n",
    "\n",
    "fig, ax = plt.subplots(figsize=(8.5, 8.5))\n",
    "ax.set_prop_cycle('color',[plt.cm.jet(i) for i in np.linspace(0, 1, num_plots)])\n",
    "plt.plot([0, 1], [0, 1], color='navy', linewidth=1, linestyle='--')\n",
    "for i in range(n_iter, num_plots):\n",
    "    plt.plot(roc_fpr[i], roc_tpr[i], linewidth=1, label=f'ROC curve (area - %0.2f) of fold {i+1}' % roc_per_fold[i])\n",
    "    i += 1\n",
    "plt.xlim([0.0, 1.0])\n",
    "plt.ylim([0.0, 1.05])\n",
    "plt.xlabel('False Positive Rate', fontsize = 20)\n",
    "plt.ylabel('True Positive Rate', fontsize = 20)\n",
    "plt.xticks(fontsize = 20)\n",
    "plt.yticks(fontsize = 20)\n",
    "legend = plt.legend(loc='upper right', bbox_to_anchor=(1.6, 1), frameon = True, fontsize = 13)\n",
    "art_legend = plt.gca().add_artist(legend)\n",
    "plt.show()\n",
    "plt.cla()\n",
    "plt.clf()"
   ]
  },
  {
   "cell_type": "code",
   "execution_count": null,
   "metadata": {},
   "outputs": [],
   "source": [
    "num_plots = 10\n",
    "n_iter = 0\n",
    "\n",
    "fig, ax = plt.subplots(figsize=(8.5, 8.5))\n",
    "ax.set_prop_cycle('color',[plt.cm.jet(i) for i in np.linspace(0, 1, num_plots)])\n",
    "for i in range(n_iter, num_plots):\n",
    "    step_kwargs = ({'step': 'post'}\n",
    "                   if 'step' in signature(plt.fill_between).parameters\n",
    "                   else {})\n",
    "    plt.step(recall_fold[i], precision_fold[i], color='navy', alpha=0.1, where='post', label='Avg. Precision of each fold : {0:0.2f}'.format(ave_precision_fold[i]))\n",
    "    plt.fill_between(recall_fold[i], precision_fold[i], alpha=0.05, color='navy', **step_kwargs)\n",
    "    i += 1\n",
    "plt.xlabel('Recall', fontsize = 20)\n",
    "plt.ylabel('Precision', fontsize = 20)\n",
    "plt.xlim([0.0, 1.0])\n",
    "plt.ylim([0.0, 1.05])\n",
    "plt.xticks(fontsize = 20)\n",
    "plt.yticks(fontsize = 20)\n",
    "legend = plt.legend(loc='upper right', bbox_to_anchor=(1.6, 1), frameon = False, fontsize = 13)\n",
    "art_legend = plt.gca().add_artist(legend)\n",
    "plt.title(f'Precision-Recall curve of {i} folds', fontsize = 20)\n",
    "plt.show()\n",
    "plt.cla()\n",
    "plt.clf()"
   ]
  },
  {
   "cell_type": "code",
   "execution_count": null,
   "metadata": {},
   "outputs": [],
   "source": [
    "pred = model.predict(x=X_test)"
   ]
  },
  {
   "cell_type": "code",
   "execution_count": null,
   "metadata": {},
   "outputs": [],
   "source": [
    "#Test the model\n",
    "select_test = test_seq.sort_values(by = [\"indel_freq\"], axis = 0, ascending = False)\n",
    "select_test_top = test_seq.head(100)\n",
    "select_test_bot = test_seq.tail(100)"
   ]
  },
  {
   "cell_type": "code",
   "execution_count": null,
   "metadata": {},
   "outputs": [],
   "source": [
    "test_200 = pd.concat([select_test_top, select_test_bot], axis = 0)\n",
    "test_200.shape"
   ]
  },
  {
   "cell_type": "code",
   "execution_count": null,
   "metadata": {},
   "outputs": [],
   "source": [
    "val_pep = test_200['#pseq'].tolist()\n",
    "val_class = test_200['class'].tolist()\n",
    "val_encode = [one_hot_encoder(x) for x in val_pep]\n",
    "val_encode = np.transpose(np.asarray(val_encode), (0, 2, 1))"
   ]
  },
  {
   "cell_type": "code",
   "execution_count": null,
   "metadata": {},
   "outputs": [],
   "source": [
    "model_fit = keras.models.load_model(\"/model_path/models/Model_num/Cas9Predictor_TEST_{model_version:03}.cv.h5\")\n",
    "val_score = model_fit.predict(val_encode)\n",
    "val_score_flat = val_score.flatten()"
   ]
  },
  {
   "cell_type": "code",
   "execution_count": null,
   "metadata": {},
   "outputs": [],
   "source": [
    "model_fit.fit(val_encode, val_score_flat)"
   ]
  },
  {
   "cell_type": "code",
   "execution_count": null,
   "metadata": {},
   "outputs": [],
   "source": [
    "from sklearn.metrics import roc_curve, auc, precision_recall_curve,average_precision_score, confusion_matrix, f1_score,matthews_corrcoef\n",
    "from inspect import signature\n",
    "\n",
    "plt.rcParams[\"figure.figsize\"] = (6, 6) \n",
    "plt.rcParams[\"font.size\"] = 16\n",
    "fpr, tpr, thresholds = roc_curve(val_class, val_score)\n",
    "roc_auc = auc(fpr, tpr)\n",
    "plt.plot(fpr, tpr, color='darkorange',\n",
    "         lw=2, label='ROC curve (area = %0.3f)' % roc_auc)\n",
    "plt.plot([0, 1], [0, 1], color='navy', lw=2, linestyle='--')\n",
    "plt.xlim([0.0, 1])\n",
    "plt.ylim([0.0, 1])\n",
    "plt.xlabel('False Positive Rate')\n",
    "plt.ylabel('True Positive Rate')\n",
    "plt.legend(loc='lower right')\n",
    "plt.show()\n",
    "plt.cla()\n",
    "plt.clf()\n",
    "\n",
    "precision, recall, thresholds = precision_recall_curve(\n",
    "    val_class, val_score\n",
    ")\n",
    "average_precision = average_precision_score(val_class, val_score)\n",
    "\n",
    "step_kwargs = ({'step': 'post'}\n",
    "               if 'step' in signature(plt.fill_between).parameters\n",
    "               else {})\n",
    "plt.step(recall, precision, color='navy', alpha=0.2, where='post',\n",
    "         label='Avg. Precision : {0:0.3f}'.format(average_precision))\n",
    "plt.fill_between(recall, precision, alpha=0.2, color='navy', **step_kwargs)\n",
    "plt.xlabel('Recall')\n",
    "plt.ylabel('Precision')\n",
    "plt.xlim([0.0, 1.0])\n",
    "plt.ylim([0.0, 1.05])\n",
    "plt.legend(loc='lower right')\n",
    "plt.show()\n",
    "plt.cla()\n",
    "plt.clf()"
   ]
  },
  {
   "cell_type": "code",
   "execution_count": null,
   "metadata": {},
   "outputs": [],
   "source": [
    "score_test = pd.DataFrame(val_score*100, columns = [\"pred_score\"])"
   ]
  },
  {
   "cell_type": "code",
   "execution_count": null,
   "metadata": {},
   "outputs": [],
   "source": [
    "test_200 = test_200.reset_index(drop=True)\n",
    "test_table = pd.concat((test_200, score_test), axis = 1)\n",
    "test_table.to_csv(\"/file_location/Result_of_test_data.csv\", sep = \"\\t\")"
   ]
  }
 ],
 "metadata": {
  "kernelspec": {
   "display_name": "Python 3",
   "language": "python",
   "name": "python3"
  },
  "language_info": {
   "codemirror_mode": {
    "name": "ipython",
    "version": 3
   },
   "file_extension": ".py",
   "mimetype": "text/x-python",
   "name": "python",
   "nbconvert_exporter": "python",
   "pygments_lexer": "ipython3",
   "version": "3.7.6"
  }
 },
 "nbformat": 4,
 "nbformat_minor": 5
}
