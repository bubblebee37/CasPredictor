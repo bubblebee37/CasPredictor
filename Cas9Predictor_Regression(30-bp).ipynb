{
 "cells": [
  {
   "cell_type": "code",
   "execution_count": null,
   "metadata": {},
   "outputs": [],
   "source": [
    "import os, sys\n",
    "import tensorflow as tf\n",
    "import numpy as np\n",
    "import pandas as pd\n",
    "\n",
    "os.environ[\"HOME\"]\n",
    "AUTOTUNE = tf.data.experimental.AUTOTUNE"
   ]
  },
  {
   "cell_type": "code",
   "execution_count": null,
   "metadata": {},
   "outputs": [],
   "source": [
    "from tensorflow import keras \n",
    "from tensorflow.keras import layers\n",
    "from tensorflow.keras import models\n",
    "from sklearn.model_selection import ShuffleSplit\n",
    "from sklearn.metrics import accuracy_score\n",
    "from tensorflow.keras import optimizers\n",
    "import matplotlib.pyplot as plt\n",
    "from sklearn.metrics import roc_curve, auc, precision_recall_curve,average_precision_score, confusion_matrix, f1_score,matthews_corrcoef\n",
    "from inspect import signature\n",
    "import seaborn as sns"
   ]
  },
  {
   "cell_type": "code",
   "execution_count": null,
   "metadata": {},
   "outputs": [],
   "source": [
    "def one_hot_encoder(s):\n",
    "    seq_num = ' '.join([str(ints) for ints in range(4)])\n",
    "    seq_ref = 'A T C G'\n",
    "    d = dict(zip(seq_ref.split(' '), seq_num.split(' ')))\n",
    "    \n",
    "    x = np.zeros((len(d), len(s)))\n",
    "    x[[int(d[c]) for c in s], range(len(s))] = 1\n",
    "    return x"
   ]
  },
  {
   "cell_type": "code",
   "execution_count": null,
   "metadata": {},
   "outputs": [],
   "source": [
    "folder_path = sys.path[0]\n",
    "train_seq = pd.read_csv('{}/Seq_with_freq_train.csv'.format(folder_path), sep = \",\")\n",
    "test_seq = pd.read_csv('{}/Seq_with_freq_test.csv'.format(folder_path), sep = \",\")"
   ]
  },
  {
   "cell_type": "code",
   "execution_count": null,
   "metadata": {},
   "outputs": [],
   "source": [
    "#Top or bottom 2,000 sequences\n",
    "\n",
    "train_top = train_seq.sort_values(by = [\"indel_freq\"], axis = 0, ascending = False)\n",
    "train_bot = train_seq.sort_values(by = [\"indel_freq\"], axis = 0, ascending = True)\n",
    "top_2000 = train_top.head(2000)\n",
    "bot_2000 = train_bot.head(2000)"
   ]
  },
  {
   "cell_type": "code",
   "execution_count": null,
   "metadata": {},
   "outputs": [],
   "source": [
    "total_4000 = pd.concat([top_2000, bot_2000], axis = 0)\n",
    "total_4000.shape"
   ]
  },
  {
   "cell_type": "code",
   "execution_count": null,
   "metadata": {},
   "outputs": [],
   "source": [
    "#Sequences to One-hot encoding vector for CNN\n",
    "seq = total_4000['#bseq'].tolist()\n",
    "seq_freq = total_4000['indel_freq'].tolist()\n",
    "X_seq = [one_hot_encoder(x) for x in seq]\n",
    "X_seq = np.transpose(np.asarray(X_seq), (0, 2, 1))\n",
    "X_seq = X_seq.astype('float32')\n",
    "Y_val = np.array(seq_freq)"
   ]
  },
  {
   "cell_type": "code",
   "execution_count": null,
   "metadata": {},
   "outputs": [],
   "source": [
    "print('Length of data:', X_seq.shape[0])\n",
    "print('Length of nucleic acids:', X_seq.shape[1])\n",
    "print('Type of nucleic acids:', X_seq.shape[2])"
   ]
  },
  {
   "cell_type": "code",
   "execution_count": null,
   "metadata": {
    "scrolled": true
   },
   "outputs": [],
   "source": [
    "#Model path\n",
    "\n",
    "current_path = os.getcwd()\n",
    "model_path = os.path.join(current_path,'models')\n",
    "model_path = os.path.join(model_path,'regression_30')\n",
    "os.makedirs(model_path, exist_ok = True)\n",
    "print(model_path)"
   ]
  },
  {
   "cell_type": "code",
   "execution_count": null,
   "metadata": {},
   "outputs": [],
   "source": [
    "#Hyperparameter\n",
    "\n",
    "BATCH_SIZE = 8\n",
    "SEQ_length = 30\n",
    "BASE_type  = 4\n",
    "CLASS_NAMES = ['enriched','not-enriched']\n",
    "params = [['CONV', 400, 3, 1],\n",
    "          ['DROP', 0.5],\n",
    "          ['POOL', 2, 1],\n",
    "          ['FLAT'],\n",
    "          ['DENSE', 50]]\n",
    "activation_func = 'relu'\n",
    "regularizer_params = None"
   ]
  },
  {
   "cell_type": "code",
   "execution_count": null,
   "metadata": {},
   "outputs": [],
   "source": [
    "model_version = 1\n",
    "dict_history = {}\n",
    "steps_per_epoch = 450\n",
    "Epochs = 50"
   ]
  },
  {
   "cell_type": "code",
   "execution_count": null,
   "metadata": {
    "scrolled": true
   },
   "outputs": [],
   "source": [
    "import numpy as np\n",
    "from sklearn.model_selection import ShuffleSplit\n",
    "from keras.optimizers import Adam\n",
    "%matplotlib inline\n",
    "import matplotlib.pyplot as plt\n",
    "split_data = ShuffleSplit(n_splits = 10, train_size = None, test_size = 0.1, random_state = 1)\n",
    "n_iter =0\n",
    "rmse_per_fold = []\n",
    "val_rmse_per_fold = []\n",
    "r2_per_fold = []\n",
    "\n",
    "for train_idx, test_idx in split_data.split(X_seq, Y_val):\n",
    "    X_train = np.array(X_seq[train_idx])\n",
    "    X_test = np.array(X_seq[test_idx])\n",
    "    y_train = np.array(Y_val[train_idx])\n",
    "    y_test = np.array(Y_val[test_idx])\n",
    "    model = models.Sequential()\n",
    "    model.add(layers.Conv1D(filters = params[0][1],kernel_size = params[0][2], strides = params[0][3], activation = activation_func, input_shape = (SEQ_length, BASE_type), kernel_regularizer = regularizer_params, bias_regularizer = regularizer_params,padding = 'same'))\n",
    "    model.add(layers.Dropout(rate = params[1][1]))\n",
    "    model.add(layers.MaxPool1D(pool_size = params[2][1], strides = params[2][2]))\n",
    "    model.add(layers.Flatten())\n",
    "    model.add(layers.Dense(params[4][1], activation = activation_func, kernel_regularizer = regularizer_params, bias_regularizer = regularizer_params))\n",
    "    model.add(layers.Dense(1))\n",
    "    model.compile(loss = 'mean_squared_error', optimizer = optimizers.Adam(learning_rate = 0.000075), metrics = [tf.keras.metrics.RootMeanSquaredError()])\n",
    "    dict_history[model_version] = model.fit(x = X_train, y = y_train, shuffle = True, steps_per_epoch = steps_per_epoch, epochs = Epochs, batch_size = BATCH_SIZE, validation_data = (X_test, y_test), verbose = 2)\n",
    "    history = dict_history[model_version]\n",
    "    rmse = history.history['root_mean_squared_error']\n",
    "    val_rmse = history.history['val_root_mean_squared_error']\n",
    "    epochs = range(1, len(rmse) + 1)\n",
    "    train_size = X_train.shape[0]\n",
    "    test_size = X_test.shape[0]\n",
    "    pred = model.predict(X_test, verbose = 0)\n",
    "    r2_y_pred = r2_score(y_test, pred)\n",
    "    rmse_per_fold.append(rmse)\n",
    "    val_rmse_per_fold.append(val_rmse)\n",
    "    arr_rmse = np.array(rmse_per_fold)\n",
    "    arr_val_rmse = np.array(val_rmse_per_fold)\n",
    "    r2_per_fold.append(r2_y_pred)\n",
    "    print('r2_score: {} for fold {}'.format(r2_y_pred, n_iter+1))\n",
    "    globals()['model_fname_{}'.format(n_iter+1)] = f'BBBphagedisplay_TEST_{n_iter+1}_{model_version:03}.h5'\n",
    "    model_spath = os.path.join(model_path,f'model_fname_{n_iter+1}')\n",
    "    model.save(model_spath)\n",
    "    fig = plt.figure(figsize=(10.5,3.5))\n",
    "    plt.plot(epochs, rmse, 'bo', label='Training RMSE')\n",
    "    plt.plot(epochs, val_rmse, 'r', alpha=0.7, label='Validation RMSE')\n",
    "    plt.title(f'Training and validation RMSE of fold {n_iter+1}')\n",
    "    plt.ylabel('RMSE')\n",
    "    plt.legend()\n",
    "    plt.show()\n",
    "    plt.cla\n",
    "    plt.clf\n",
    "    n_iter += 1"
   ]
  },
  {
   "cell_type": "code",
   "execution_count": null,
   "metadata": {},
   "outputs": [],
   "source": [
    "result = sum(r2_per_fold)\n",
    "print(f\"average : {result / len(r2_per_fold)}\")"
   ]
  },
  {
   "cell_type": "code",
   "execution_count": null,
   "metadata": {},
   "outputs": [],
   "source": [
    "#Model save\n",
    "model_fname = f'Cas9Predictor_TEST_{model_version:03}.cv.h5'\n",
    "model_spath = os.path.join(model_path, model_fname)\n",
    "print(model_spath)"
   ]
  },
  {
   "cell_type": "code",
   "execution_count": null,
   "metadata": {},
   "outputs": [],
   "source": [
    "import matplotlib.pyplot as plt\n",
    "import numpy as np\n",
    "from cycler import cycler\n",
    "import matplotlib.lines as mlines\n",
    "num_plots = 10\n",
    "n_iter = 0\n",
    "\n",
    "fig, ax = plt.subplots(figsize=(10.5,5.5))\n",
    "ax.set_prop_cycle('color',[plt.cm.jet(i) for i in np.linspace(0, 1, num_plots)])\n",
    "b_o = mlines.Line2D([], [], color='black', marker='o', linestyle='None', markersize=8)\n",
    "b_line = mlines.Line2D([], [], color='black', linestyle='solid')\n",
    "for i in range(n_iter, num_plots):\n",
    "    plt.plot(epochs, arr_rmse[i], 'o', markersize = 5.5, alpha= 0.8)\n",
    "    i += 1\n",
    "for i in range(n_iter, num_plots):\n",
    "    plt.plot(epochs, arr_val_rmse[i], alpha= 0.8, label= f'Fold {i+1}')\n",
    "    i += 1\n",
    "legend = plt.legend(loc='upper right', bbox_to_anchor=(1.15, 1), frameon = True, fontsize = 11)\n",
    "art_legend = plt.gca().add_artist(legend)\n",
    "legend_2 = plt.legend(handles = [b_o, b_line], labels = ['RMSE', 'Validation RMSE'], loc='upper right', frameon = True, fontsize = 11)\n",
    "art_legend_2 = plt.gca().add_artist(legend_2)"
   ]
  },
  {
   "cell_type": "code",
   "execution_count": null,
   "metadata": {},
   "outputs": [],
   "source": [
    "pred = model.predict(x=X_test)"
   ]
  },
  {
   "cell_type": "code",
   "execution_count": null,
   "metadata": {},
   "outputs": [],
   "source": [
    "#Test the model (Endogenous dataset : 542 sequences)\n",
    "select_test = test_seq.sort_values(by = [\"indel_freq\"], axis = 0, ascending = False)\n",
    "select_test_top = test_seq.head(271)\n",
    "select_test_bot = test_seq.tail(271)"
   ]
  },
  {
   "cell_type": "code",
   "execution_count": null,
   "metadata": {},
   "outputs": [],
   "source": [
    "test_set = pd.concat([select_test_top, select_test_bot], axis = 0)"
   ]
  },
  {
   "cell_type": "code",
   "execution_count": null,
   "metadata": {},
   "outputs": [],
   "source": [
    "val_pep = test_set['#bseq'].tolist()\n",
    "val_class = test_set['indel_freq'].tolist()\n",
    "val_encode = [one_hot_encoder(x) for x in val_pep]\n",
    "val_encode = np.transpose(np.asarray(val_encode), (0, 2, 1))"
   ]
  },
  {
   "cell_type": "code",
   "execution_count": null,
   "metadata": {},
   "outputs": [],
   "source": [
    "#Insert best model number to \"num\" from 10 cross-validated model\n",
    "model_fit = keras.models.load_model(\"{}/model_fname_num\".format(model_path))\n",
    "val_score = model_fit.predict(val_encode)\n",
    "val_score_flat = val_score.flatten()\n",
    "model_fit.fit(val_encode, val_score_flat)"
   ]
  },
  {
   "cell_type": "code",
   "execution_count": null,
   "metadata": {},
   "outputs": [],
   "source": [
    "model_fit.fit(val_encode, val_score_flat)"
   ]
  },
  {
   "cell_type": "code",
   "execution_count": null,
   "metadata": {},
   "outputs": [],
   "source": [
    "import matplotlib.pyplot as plt\n",
    "import seaborn as sns\n",
    "plt.rcParams[\"font.size\"] = 16\n",
    "plt.figure(figsize = (10, 8), dpi = 80)\n",
    "plt.scatter(test_table[\"Indel frequency\"], test_table[\"Predicted frequency\"], color = 'green', alpha =  0.5, s = 20)\n",
    "hist, xbins, ybins, im  = plt.hist2d(test_table[\"Indel frequency\"], test_table[\"Predicted frequency\"], (5, 5), range = [[0, 100], [0, 100]], alpha = 0.3, cmap = 'Blues')\n",
    "plt.xlabel('Validated indel frequency')\n",
    "plt.ylabel('Predicted score')\n",
    "plt.gca().xaxis.set_major_locator(plt.MultipleLocator(5))\n",
    "plt.gca().yaxis.set_major_locator(plt.MultipleLocator(5))\n",
    "plt.xticks(np.arange(0, 100, 20), fontsize = 16)\n",
    "plt.yticks(np.arange(0, 100, 20), fontsize = 16)\n",
    "plt.xlim(0, 100)\n",
    "plt.ylim(0, 100)\n",
    "plt.plot([0, 100], [0, 100], 'k--')\n",
    "plt.grid(True, color = 'black', alpha = 0.35, linestyle = '--')\n",
    "plt.colorbar()\n",
    "plt.clim(0, 200)\n",
    "plt.show()"
   ]
  },
  {
   "cell_type": "code",
   "execution_count": null,
   "metadata": {},
   "outputs": [],
   "source": []
  }
 ],
 "metadata": {
  "kernelspec": {
   "display_name": "Python 3",
   "language": "python",
   "name": "python3"
  },
  "language_info": {
   "codemirror_mode": {
    "name": "ipython",
    "version": 3
   },
   "file_extension": ".py",
   "mimetype": "text/x-python",
   "name": "python",
   "nbconvert_exporter": "python",
   "pygments_lexer": "ipython3",
   "version": "3.7.6"
  }
 },
 "nbformat": 4,
 "nbformat_minor": 5
}
